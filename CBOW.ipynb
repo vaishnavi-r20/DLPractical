{
 "cells": [
  {
   "cell_type": "code",
   "execution_count": 1,
   "id": "fa7df773",
   "metadata": {},
   "outputs": [],
   "source": [
    "import matplotlib.pyplot as plt\n",
    "import seaborn as sns\n",
    "import matplotlib as mpl\n",
    "import matplotlib.pylab as pylab\n",
    "import numpy as np\n",
    "%matplotlib inline"
   ]
  },
  {
   "cell_type": "code",
   "execution_count": 2,
   "id": "69477b42",
   "metadata": {},
   "outputs": [],
   "source": [
    "import re\n",
    "sentences = \"\"\"We are about to study the idea of a computational \n",
    "process.\n",
    "Computational processes are abstract beings that inhabit computers.\n",
    "As they evolve, processes manipulate other abstract things called \n",
    "data.\n",
    "The evolution of a process is directed by a pattern of rules\n",
    "called a program. People create programs to direct processes. In \n",
    "effect,\n",
    "we conjure the spirits of the computer with our spells.\"\"\"\n"
   ]
  },
  {
   "cell_type": "code",
   "execution_count": 3,
   "id": "37aff017",
   "metadata": {},
   "outputs": [],
   "source": [
    "sentences = re.sub('[^A-Za-z0-9]+', ' ', sentences)\n",
    "# remove 1 letter words\n",
    "sentences = re.sub(r'(?:^| )\\w(?:$| )', ' ', sentences).strip()\n",
    "# lower all characters\n",
    "sentences = sentences.lower()"
   ]
  },
  {
   "cell_type": "code",
   "execution_count": 4,
   "id": "d0966ce2",
   "metadata": {},
   "outputs": [],
   "source": [
    "words = sentences.split()\n",
    "vocab = set(words)\n",
    "vocab_size = len(vocab)\n",
    "embed_dim = 10\n",
    "context_size = 2"
   ]
  },
  {
   "cell_type": "code",
   "execution_count": 5,
   "id": "7df15b19",
   "metadata": {},
   "outputs": [],
   "source": [
    "word_to_ix = {word: i for i, word in enumerate(vocab)}\n",
    "ix_to_word = {i: word for i, word in enumerate(vocab)}\n"
   ]
  },
  {
   "cell_type": "code",
   "execution_count": 6,
   "id": "c66345fb",
   "metadata": {},
   "outputs": [
    {
     "name": "stdout",
     "output_type": "stream",
     "text": [
      "[(['we', 'are', 'to', 'study'], 'about'), (['are', 'about', 'study', 'the'], 'to'), (['about', 'to', 'the', 'idea'], 'study'), (['to', 'study', 'idea', 'of'], 'the'), (['study', 'the', 'of', 'computational'], 'idea')]\n"
     ]
    }
   ],
   "source": [
    "data = []\n",
    "for i in range(2, len(words) - 2):\n",
    " context = [words[i - 2], words[i - 1], words[i + 1], words[i + 2]]\n",
    " target = words[i]\n",
    " data.append((context, target))\n",
    "print(data[:5])\n"
   ]
  },
  {
   "cell_type": "code",
   "execution_count": 7,
   "id": "8d4af262",
   "metadata": {},
   "outputs": [],
   "source": [
    "embeddings = np.random.random_sample((vocab_size, embed_dim))"
   ]
  },
  {
   "cell_type": "code",
   "execution_count": 8,
   "id": "5b68019c",
   "metadata": {},
   "outputs": [],
   "source": [
    "def linear(m, theta):\n",
    " w = theta\n",
    " return m.dot(w)"
   ]
  },
  {
   "cell_type": "code",
   "execution_count": 9,
   "id": "75291d44",
   "metadata": {},
   "outputs": [],
   "source": [
    "def log_softmax(x):\n",
    " e_x = np.exp(x - np.max(x))\n",
    " return np.log(e_x / e_x.sum())"
   ]
  },
  {
   "cell_type": "code",
   "execution_count": 10,
   "id": "1a396777",
   "metadata": {},
   "outputs": [],
   "source": [
    "def NLLLoss(logs, targets):\n",
    " out = logs[range(len(targets)), targets]\n",
    " return -out.sum()/len(out)\n"
   ]
  },
  {
   "cell_type": "code",
   "execution_count": 11,
   "id": "d1f37d7a",
   "metadata": {},
   "outputs": [],
   "source": [
    "def log_softmax_crossentropy_with_logits(logits,target):\n",
    " out = np.zeros_like(logits)\n",
    " out[np.arange(len(logits)),target] = 1\n",
    " \n",
    " softmax = np.exp(logits) / np.exp(logits).sum(axis=-1,keepdims=True)\n",
    " \n",
    " return (- out + softmax) / logits.shape[0]"
   ]
  },
  {
   "cell_type": "code",
   "execution_count": 12,
   "id": "2bc8cc53",
   "metadata": {},
   "outputs": [],
   "source": [
    "def forward(context_idxs, theta):\n",
    " m = embeddings[context_idxs].reshape(1, -1)\n",
    " n = linear(m, theta)\n",
    " o = log_softmax(n)\n",
    " \n",
    " return m, n, o"
   ]
  },
  {
   "cell_type": "code",
   "execution_count": 13,
   "id": "4cfc2e32",
   "metadata": {},
   "outputs": [],
   "source": [
    "def backward(preds, theta, target_idxs):\n",
    " m, n, o = preds\n",
    " \n",
    " dlog = log_softmax_crossentropy_with_logits(n, target_idxs)\n",
    " dw = m.T.dot(dlog)\n",
    " \n",
    " return dw"
   ]
  },
  {
   "cell_type": "code",
   "execution_count": 14,
   "id": "e28ddd20",
   "metadata": {},
   "outputs": [],
   "source": [
    "def optimize(theta, grad, lr=0.03):\n",
    " theta -= grad * lr\n",
    " return theta"
   ]
  },
  {
   "cell_type": "code",
   "execution_count": 26,
   "id": "14b5d019",
   "metadata": {},
   "outputs": [],
   "source": [
    "theta = np.random.uniform(-1, 1, (2 * context_size * embed_dim, vocab_size))\n",
    "epoch_losses = {}\n",
    "for epoch in range(80):\n",
    "    losses = []\n",
    "    for context, target in data:\n",
    "        context_idxs = np.array([word_to_ix[w] for w in context])\n",
    "        preds = forward(context_idxs, theta)\n",
    "        target_idxs = np.array([word_to_ix[target]])\n",
    "        loss = NLLLoss(preds[-1], target_idxs)\n",
    "        losses.append(loss)\n",
    "        grad = backward(preds, theta, target_idxs)\n",
    "        theta = optimize(theta, grad, lr=0.03)\n",
    "\n",
    " \n",
    "    epoch_losses[epoch] = losses"
   ]
  },
  {
   "cell_type": "code",
   "execution_count": 27,
   "id": "d528ed95",
   "metadata": {},
   "outputs": [],
   "source": [
    "ix = np.arange(0,80)"
   ]
  },
  {
   "cell_type": "code",
   "execution_count": 29,
   "id": "bca697d2",
   "metadata": {},
   "outputs": [
    {
     "data": {
      "text/plain": [
       "Text(0, 0.5, 'Losses')"
      ]
     },
     "execution_count": 29,
     "metadata": {},
     "output_type": "execute_result"
    },
    {
     "data": {
      "image/png": "[encoded data removed]",
      "text/plain": [
       "<Figure size 432x288 with 1 Axes>"
      ]
     },
     "metadata": {
      "needs_background": "light"
     },
     "output_type": "display_data"
    }
   ],
   "source": [
    "fig = plt.figure()\n",
    "fig.suptitle('Epoch/Losses', fontsize=20)\n",
    "plt.plot(ix,[epoch_losses[i][0] for i in ix])\n",
    "plt.xlabel('Epochs', fontsize=12)\n",
    "plt.ylabel('Losses', fontsize=12)\n"
   ]
  },
  {
   "cell_type": "code",
   "execution_count": 35,
   "id": "f49d46b7",
   "metadata": {},
   "outputs": [],
   "source": [
    "def predict(words):\n",
    " context_idxs = np.array([word_to_ix[w] for w in words])\n",
    " preds = forward(context_idxs, theta)\n",
    " word = ix_to_word[np.argmax(preds[-1])]\n",
    " return word"
   ]
  },
  {
   "cell_type": "code",
   "execution_count": 38,
   "id": "14abac13",
   "metadata": {},
   "outputs": [
    {
     "data": {
      "text/plain": [
       "1.0"
      ]
     },
     "execution_count": 38,
     "metadata": {},
     "output_type": "execute_result"
    }
   ],
   "source": [
    "def accuracy():\n",
    " wrong = 0\n",
    " for context, target in data:\n",
    "    if(predict(context) != target):\n",
    "         wrong += 1\n",
    "\n",
    "    return (1 - (wrong / len(data)))\n",
    "accuracy()\n"
   ]
  },
  {
   "cell_type": "code",
   "execution_count": null,
   "id": "f5a80feb",
   "metadata": {},
   "outputs": [],
   "source": []
  }
 ],
 "metadata": {
  "kernelspec": {
   "display_name": "Python 3",
   "language": "python",
   "name": "python3"
  },
  "language_info": {
   "codemirror_mode": {
    "name": "ipython",
    "version": 3
   },
   "file_extension": ".py",
   "mimetype": "text/x-python",
   "name": "python",
   "nbconvert_exporter": "python",
   "pygments_lexer": "ipython3",
   "version": "3.8.8"
  }
 },
 "nbformat": 4,
 "nbformat_minor": 5
}
